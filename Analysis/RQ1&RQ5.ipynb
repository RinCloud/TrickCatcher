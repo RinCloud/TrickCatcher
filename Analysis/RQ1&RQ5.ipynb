{
 "cells": [
  {
   "cell_type": "code",
   "execution_count": 2,
   "metadata": {},
   "outputs": [],
   "source": [
    "import utils\n",
    "import pandas as pd\n",
    "import numpy as np\n",
    "import os\n",
    "import json\n",
    "import matplotlib.pyplot as plt\n",
    "import seaborn as sns"
   ]
  },
  {
   "cell_type": "markdown",
   "metadata": {},
   "source": [
    "# RQ1-A.TrickyBugs (C++)\n",
    "\n",
    "\n",
    "First we handle the data about test inputs. The oracles and validities of test inputs are only related to the coding task and are independent of the PUTs.\n",
    "\n",
    "A.1.1. Load the reference dataframes.\n",
    "- `ref_direct`: The outputs of canonical solutions on DPP direct-generated inputs.\n",
    "- `ref_generator`: The outputs of canonical solutions on TC generator-generated inputs.\n",
    "- `ref_chat`: The outputs of canonical solutions on inputs extracted from LLM-generated test cases.\n",
    "\n",
    "\n",
    "A.1.2. Load the input validity dataframes.\n",
    "- `input_valid_direct`: The validity of positive test inputs from DPP direct-generated inputs.\n",
    "- `input_valid_generator`: The validity of positive test inputs from TC generator-generated inputs.\n",
    "- `input_valid_chat`: The validity of positive test inputs extracted from LLM-generated test cases.\n"
   ]
  },
  {
   "cell_type": "code",
   "execution_count": 3,
   "metadata": {},
   "outputs": [],
   "source": [
    "ref_direct=pd.read_pickle(\"../Data/ref_direct.pkl\")\n",
    "ref_generator=pd.read_pickle(\"../Data/ref_generator.pkl\")\n",
    "ref_chat=pd.read_pickle(\"../Data/ref_chat.pkl\")\n",
    "input_valid_direct=pd.read_pickle(\"../Data/input_valid_direct.pkl\")\n",
    "input_valid_generator=pd.read_pickle(\"../Data/input_valid_generator.pkl\")\n",
    "input_valid_chat=pd.read_pickle(\"../Data/input_valid_chat.pkl\")"
   ]
  },
  {
   "cell_type": "markdown",
   "metadata": {},
   "source": [
    "A.1.3. Then Load the result dataframes of differential tetsing.\n",
    "- `dpp_res`: The outputs of PUTs and DPP's all programs variants on all DPP's direct-genereted test inputs.\n",
    "- `tc_res`: The outputs of PUTs and TC's all programs variants on all TC's generator-genereted test inputs.\n",
    "- `chat_res`: The outputs of PUTs on all inputs extracted from LLM generated test cases."
   ]
  },
  {
   "cell_type": "code",
   "execution_count": 4,
   "metadata": {},
   "outputs": [],
   "source": [
    "dpp_res=pd.read_pickle(\"../Data/dpp_res.pkl\")\n",
    "tc_res=pd.read_pickle(\"../Data/tc_res.pkl\")\n",
    "chat_res=pd.read_pickle(\"../Data/chat_res.pkl\")"
   ]
  },
  {
   "cell_type": "markdown",
   "metadata": {},
   "source": [
    "A.2. Compute the result of `DPP`. \n",
    "\n",
    "A.2.1. Post-processing the `dpp_res`, and compuete the trigger dataframe.\n",
    "- `dpp_trigger`: This is an important middle data. It records all experiment results where the output of some program variants are inconsistent with that of PUT. This trigger dataframe is very useful for computing the number of TP and FP. \n",
    "\n",
    "The computation is very time-consuming, and an alternative choice is to load the `dpp_trigger` directly."
   ]
  },
  {
   "cell_type": "code",
   "execution_count": 5,
   "metadata": {},
   "outputs": [],
   "source": [
    "# df_dpp=dpp_res.merge(input_valid_direct,on=['pid','input_name'],how='left')\n",
    "# df_dpp['input_valid']=pd.to_numeric(df_dpp['input_valid'], errors='coerce').fillna(-1).astype(int)\n",
    "# df_dpp=(df_dpp\n",
    "# [~(    \n",
    "#     (df_dpp['out']=='TIME_OUT' )|\n",
    "#     (df_dpp['out']=='RUN_ERROR' )|\n",
    "#     (df_dpp['out']=='')\n",
    "# )\n",
    "# ])\n",
    "# df_dpp=pd.merge(df_dpp,ref_direct, on=['pid', 'input_name'], suffixes=('', '_ref'),how='left')\n",
    "# df_dpp['out_correct']= (df_dpp['out']==df_dpp['ref_out'])\n",
    "# dpp_trigger=utils.get_trigger_df(df_dpp,'cpp','dfp') \n",
    "# dpp_trigger['len_sol_names']=dpp_trigger['sol_names'].apply(lambda x:len(x))\n",
    "# dpp_trigger['final_valid']= ( (dpp_trigger['input_valid'] == 1) & dpp_trigger['input_valid_byref'] & dpp_trigger['out_correct'] )\n",
    "# dpp_trigger['total_sols_num']=dpp_trigger['pid'].apply(lambda x:len(df_dpp[df_dpp['pid']==x].drop_duplicates(subset=['sol_name']))-1)\n",
    "# for i in range(10):\n",
    "#     column_name=f\"num{i}\"\n",
    "#     dpp_trigger[column_name] = dpp_trigger['sol_names'].apply(lambda x: 1 if column_name in [sol.split('_')[1] for sol in x] else 0)\n",
    "\n",
    "\n",
    "\n",
    "#  **WARNING**: The codes above in this block are time consuming. An alternative choice is to load the result directly\n",
    "dpp_trigger=pd.read_pickle(\"../Data/dpp_trigger.pkl\")\n",
    "\n"
   ]
  },
  {
   "cell_type": "markdown",
   "metadata": {},
   "source": [
    "A.2.2. Compute the average number of TP and FP with different $k$ (the number of generated program variants) of different PUTs. \n",
    "\n",
    "The results for each PUT are an average summary of repeated experiments across different rounds."
   ]
  },
  {
   "cell_type": "code",
   "execution_count": 6,
   "metadata": {},
   "outputs": [],
   "source": [
    "dpp_results={}\n",
    "for i in range(2,11):\n",
    "    dpp_results[i]=utils.compute_res_df(dpp_trigger,i,'dfp')"
   ]
  },
  {
   "cell_type": "markdown",
   "metadata": {},
   "source": [
    "A.2.3. Print the results. \n",
    "- The final recall is based on average TP numbers of each PUT.\n",
    "- The final precision is the average precision of each PUT.\n",
    "- The final F1 score is computed based on final recall and final precision."
   ]
  },
  {
   "cell_type": "code",
   "execution_count": 7,
   "metadata": {},
   "outputs": [
    {
     "name": "stdout",
     "output_type": "stream",
     "text": [
      "DPP all res:\n",
      "k=2:   0.20956623711371966 0.2636987240299441 0.23353661844350743\n",
      "k=3:   0.20396645390996487 0.29021802532171725 0.23956536060239783\n",
      "k=4:   0.19460538744282999 0.32221122325619306 0.24265489398798137\n",
      "k=5:   0.1852205203142131 0.3642672875412245 0.24557333417517072\n",
      "k=6:   0.17680501283089603 0.41599864490486327 0.24814504698223278\n",
      "k=7:   0.16945312103933516 0.4669620060512271 0.24866841143111093\n",
      "k=8:   0.1630807527206393 0.5309215052683013 0.24951814700323122\n",
      "k=9:   0.1577982893399422 0.5549010872975481 0.24572055258851463\n",
      "k=10:   0.1550393198448038 0.6080448325163399 0.2470785351177508\n"
     ]
    }
   ],
   "source": [
    "print(\"DPP all res:\")\n",
    "len_PUT=251\n",
    "for i in range(2,11):\n",
    "    print(f\"k={i}:   \",end=\"\")\n",
    "    recall=dpp_results[i]['TP_rate'].sum()/len_PUT\n",
    "    precision=dpp_results[i]['precision'].mean()\n",
    "    F1_score=2*precision*recall/(precision+recall)\n",
    "    print(recall,precision,F1_score)"
   ]
  },
  {
   "cell_type": "markdown",
   "metadata": {},
   "source": [
    "A.3.Compute the result of `TC`. \n",
    "\n",
    "A.3.1. Similarly to step 4.1, post-processing the `tc_res`, and compuete the `tc_trigger`. And an alternative choice is to load the `tc_trigger` directly."
   ]
  },
  {
   "cell_type": "code",
   "execution_count": 8,
   "metadata": {},
   "outputs": [],
   "source": [
    "# df_tc=pd.merge(tc_res,ref_generator, on=['pid', 'input_name'], suffixes=('', '_ref'),how='left')\n",
    "# df_tc['out_correct']= (df_tc['out']==df_tc['ref_out'])\n",
    "# df_tc=(df_tc\n",
    "# [~(    \n",
    "#     (df_tc['out']=='TIME_OUT' )|\n",
    "#     (df_tc['out']=='RUN_ERROR' )|\n",
    "#     (df_tc['out']=='')\n",
    "# )\n",
    "# ])\n",
    "# df_tc['input_group']=df_tc['input_name'].apply(lambda x: x.split('_')[0]).astype(int)\n",
    "# df_tc=pd.merge(df_tc,input_valid_generator,on=['pid','input_group'],how='left')\n",
    "# df_tc['input_valid']=df_tc['input_valid'].fillna(-1)\n",
    "# df_tc['input_valid']=df_tc['input_valid'].astype(int)\n",
    "\n",
    "# tc_trigger=utils.get_trigger_df(df_tc,'cpp','tc')\n",
    "# tc_trigger['len_sol_names']=tc_trigger['sol_names'].apply(lambda x:len(x))\n",
    "# tc_trigger['final_valid']= ( (tc_trigger['input_valid'] != 0) & tc_trigger['input_valid_byref'] & tc_trigger['out_correct'] )\n",
    "# tc_trigger['total_sols_num']=tc_trigger['pid'].apply(lambda x:len(df_tc[df_tc['pid']==x].drop_duplicates(subset=['sol_name']))-1)\n",
    "# for i in range(10):\n",
    "#     column_name=f\"num{i}\"\n",
    "#     tc_trigger[column_name] = tc_trigger['sol_names'].apply(lambda x: 1 if column_name in [sol.split('_')[1] for sol in x] else 0)\n",
    "\n",
    "\n",
    "\n",
    "#  **WARNING**: The codes above in this block are time consuming. An alternative choice is to load the result directly\n",
    "tc_trigger=pd.read_pickle(\"../Data/tc_trigger.pkl\")"
   ]
  },
  {
   "cell_type": "markdown",
   "metadata": {},
   "source": [
    "A.3.2. Similarly to step 4.2. Compute the average number of TP and FP with different $k$ of different PUTs."
   ]
  },
  {
   "cell_type": "code",
   "execution_count": 9,
   "metadata": {},
   "outputs": [],
   "source": [
    "tc_results={}\n",
    "for i in range(2,11):\n",
    "    tc_results[i]=utils.compute_res_df(tc_trigger,i,'tc')"
   ]
  },
  {
   "cell_type": "markdown",
   "metadata": {},
   "source": [
    "A.3.3. Print the results. \n",
    "- The final recall is based on average TP numbers of each PUT.\n",
    "- The final precision is the average precision of each PUT.\n",
    "- The final F1 score is computed based on final recall and final precision."
   ]
  },
  {
   "cell_type": "code",
   "execution_count": 10,
   "metadata": {},
   "outputs": [
    {
     "name": "stdout",
     "output_type": "stream",
     "text": [
      "TC all res:\n",
      "k=2:   0.25064899043199457 0.6991469199396292 0.3690065786405434\n",
      "k=3:   0.26746132155212354 0.698565502120137 0.386820009153623\n",
      "k=4:   0.27743369969517 0.6969281770001491 0.3968779304517519\n",
      "k=5:   0.2831001070894958 0.6956268470073805 0.40242487255056225\n",
      "k=6:   0.2865356201045365 0.694509997111865 0.4056933728645398\n",
      "k=7:   0.289387750720712 0.6939485627652917 0.4084466543955757\n",
      "k=8:   0.29189056555686216 0.6934809094265741 0.410851217017039\n",
      "k=9:   0.2930941143958002 0.6940247425787345 0.41213794237168544\n",
      "k=10:   0.2937987576038061 0.6956932845146728 0.4131287852019906\n"
     ]
    }
   ],
   "source": [
    "print(\"TC all res:\")\n",
    "for i in range(2,11):\n",
    "    print(f\"k={i}:   \",end=\"\")\n",
    "    recall=tc_results[i]['TP_rate'].sum()/len_PUT\n",
    "    precision=tc_results[i]['precision'].mean()\n",
    "    F1_score=2*precision*recall/(precision+recall)\n",
    "    print(recall,precision,F1_score)"
   ]
  },
  {
   "cell_type": "markdown",
   "metadata": {},
   "source": [
    "A.4. Compute the reslut of `CHAT`.\n",
    "\n",
    "A generated test case could be a TP, FP, or negative. CHAT generates 100 test cases for each PUT, and the values for TP and FP for each PUT are obtained by averaging the results of all test cases."
   ]
  },
  {
   "cell_type": "code",
   "execution_count": 20,
   "metadata": {},
   "outputs": [
    {
     "name": "stdout",
     "output_type": "stream",
     "text": [
      "CHAT res:\n",
      "0.03780686934406874 0.06312328556214565 0.047290005886425956\n"
     ]
    }
   ],
   "source": [
    "df_chat=chat_res.copy()\n",
    "df_chat['input_name']=chat_res['input_name'].apply(lambda x:'.'.join( (\"_\".join(x.split('_')[1:]).split('.')[:-1] )))\n",
    "df_chat=df_chat.merge(ref_chat,on=['pid','input_name'],how='left')\n",
    "df_chat['triger']= (df_chat['out']!=df_chat['chat_out'])\n",
    "df_chat=df_chat.merge(input_valid_chat,on=['pid','input_name'],how='left')\n",
    "df_chat['input_valid']=df_chat['input_valid'].fillna(-1)\n",
    "df_chat['input_valid']=df_chat['input_valid'].astype(int)\n",
    "df_chat['final_valid']= ( (df_chat['input_valid'] == 1) & df_chat['input_valid_byref'] & df_chat['out_correct'] )\n",
    "\n",
    "chat_results=pd.DataFrame(columns=['pid','total','TP','FP'])\n",
    "for pid in df_chat['pid'].unique():\n",
    "    df_tmp=df_chat[df_chat['pid']==pid]\n",
    "    df_tmp=df_tmp.drop_duplicates(subset=['input_name'])\n",
    "    total=len(df_tmp)\n",
    "    df_tmp=df_tmp[df_tmp['triger']==True]\n",
    "    TP=len(df_tmp[df_tmp['final_valid']==True])\n",
    "    FP=len(df_tmp[df_tmp['final_valid']==False])\n",
    "    chat_results.loc[len(chat_results)]=[pid,total,TP,FP]\n",
    "chat_results['TP_rate']=chat_results['TP']/chat_results['total']\n",
    "chat_results['FP_rate']=chat_results['FP']/chat_results['total']\n",
    "chat_results['precision']=chat_results['TP']/(chat_results['TP']+chat_results['FP'])\n",
    "\n",
    "print(\"CHAT res:\")\n",
    "recall=chat_results['TP_rate'].sum()/len_PUT\n",
    "precision=chat_results['precision'].mean()\n",
    "F1_score=2*precision*recall/(precision+recall)\n",
    "print(recall,precision,F1_score)"
   ]
  },
  {
   "cell_type": "markdown",
   "metadata": {},
   "source": [
    "A.5. Compute the reslut of `ARR`.\n",
    "\n",
    "Please refer to Section 4.4 of paper for details of this baseline."
   ]
  },
  {
   "cell_type": "code",
   "execution_count": 17,
   "metadata": {},
   "outputs": [
    {
     "name": "stdout",
     "output_type": "stream",
     "text": [
      "0.16460823373173972 0.34580896686159845 0.22304500388119708\n"
     ]
    }
   ],
   "source": [
    "pid_set=set(list(df_chat['pid']))\n",
    "APR_check=pd.read_pickle(\"../Data/tc_submit_base_and_extra.pkl\")\n",
    "repair_check_group_by_pid=APR_check.groupby('pid')\n",
    "res_df=pd.DataFrame(columns=['pid','total','TP','FP'])\n",
    "for pid,group in repair_check_group_by_pid:\n",
    "    if pid not in pid_set:\n",
    "        continue\n",
    "    repair_pid=APR_check[APR_check['pid']==pid]\n",
    "    total=len(repair_pid)\n",
    "    repair_pid=repair_pid[repair_pid['base']=='AC']\n",
    "    if len(repair_pid)<1:\n",
    "        continue\n",
    "    res_df.loc[len(res_df)]=[pid,total,len(repair_pid[repair_pid['extra']=='AC']),len(repair_pid[repair_pid['extra']!='AC'])]\n",
    "res_df['TP_rate']=res_df['TP']/res_df['total']\n",
    "res_df['FP_rate']=res_df['FP']/res_df['total']\n",
    "res_df['precision']=res_df['TP']/(res_df['TP']+res_df['FP'])\n",
    "recall=res_df['TP_rate'].sum()/len_PUT\n",
    "precision=res_df['precision'].mean()\n",
    "F1_score=2*precision*recall/(precision+recall)\n",
    "print(recall,precision,F1_score)"
   ]
  },
  {
   "cell_type": "markdown",
   "metadata": {},
   "source": [
    "# RQ1-B. TrickyBugs (Python)\n",
    "B.1. Load the result dataframes of differential tetsing.\n",
    "- `dpp_res_py`: The outputs of PUTs and DPP's all programs variants on all DPP's direct-genereted test inputs.\n",
    "- `tc_res_py`: The outputs of PUTs and TC's all programs variants on all TC's generator-genereted test inputs.\n",
    "- `chat_res_py`: The outputs of PUTs on all inputs extracted from LLM generated test cases."
   ]
  },
  {
   "cell_type": "code",
   "execution_count": 12,
   "metadata": {},
   "outputs": [],
   "source": [
    "dpp_res_py=pd.read_pickle(\"../Data/dpp_res_py.pkl\")\n",
    "tc_res_py=pd.read_pickle(\"../Data/tc_res_py.pkl\")\n",
    "chat_res_py=pd.read_pickle(\"../Data/chat_res_py.pkl\")"
   ]
  },
  {
   "cell_type": "markdown",
   "metadata": {},
   "source": [
    "B.2. Compute the result of `DPP`\n",
    "\n",
    "B.2.1. Compute `dpp_trigger_py` or load it."
   ]
  },
  {
   "cell_type": "code",
   "execution_count": 13,
   "metadata": {},
   "outputs": [],
   "source": [
    "# df_dpp_py=dpp_res_py.merge(input_valid_direct,on=['pid','input_name'],how='left')\n",
    "# df_dpp_py['input_valid']=pd.to_numeric(df_dpp_py['input_valid'], errors='coerce').fillna(-1).astype(int)\n",
    "# df_dpp_py=(df_dpp_py\n",
    "# [~(    \n",
    "#     (df_dpp_py['out']=='TIME_OUT' )|\n",
    "#     (df_dpp_py['out']=='RUN_ERROR' )|\n",
    "#     (df_dpp_py['out']=='')\n",
    "# )\n",
    "# ])\n",
    "# df_dpp_py=pd.merge(df_dpp_py,ref_direct, on=['pid', 'input_name'], suffixes=('', '_ref'),how='left')\n",
    "# df_dpp_py['out_correct']= (df_dpp_py['out']==df_dpp_py['ref_out'])\n",
    "\n",
    "# dpp_trigger_py=utils.get_trigger_df(df_dpp_py,'python','dfp')\n",
    "# dpp_trigger_py['len_sol_names']=dpp_trigger_py['sol_names'].apply(lambda x:len(x))\n",
    "# dpp_trigger_py['final_valid']= ( (dpp_trigger_py['input_valid'] == 1) & dpp_trigger_py['input_valid_byref'] & dpp_trigger_py['out_correct'] )\n",
    "# dpp_trigger_py['total_sols_num']=dpp_trigger_py['pid'].apply(lambda x:len(df_dpp_py[df_dpp_py['pid']==x].drop_duplicates(subset=['sol_name']))-1)\n",
    "# for i in range(10):\n",
    "#     column_name=f\"num{i}\"\n",
    "#     dpp_trigger_py[column_name] = dpp_trigger_py['sol_names'].apply(lambda x: 1 if column_name in [sol.split('_')[1] for sol in x] else 0)\n",
    "\n",
    "\n",
    "#  **WARNING**: The codes above in this block are time consuming. An alternative choice is to load the result directly\n",
    "\n",
    "dpp_trigger_py=pd.read_pickle(\"../Data/dpp_trigger_py.pkl\")"
   ]
  },
  {
   "cell_type": "markdown",
   "metadata": {},
   "source": [
    "B.2.2. Compute average number of TP and FP."
   ]
  },
  {
   "cell_type": "code",
   "execution_count": 14,
   "metadata": {},
   "outputs": [],
   "source": [
    "dpp_results_py={}\n",
    "for i in range(2,11):\n",
    "    dpp_results_py[i]=utils.compute_res_df(dpp_trigger_py,i,'dfp')"
   ]
  },
  {
   "cell_type": "markdown",
   "metadata": {},
   "source": [
    "B.2.3. Print the results."
   ]
  },
  {
   "cell_type": "code",
   "execution_count": 25,
   "metadata": {},
   "outputs": [
    {
     "name": "stdout",
     "output_type": "stream",
     "text": [
      "DPP PY all res:\n",
      "k=2:   0.32541445398247215 0.40792121785845703 0.3620264647539709\n",
      "k=3:   0.30474213915598164 0.43451761971874603 0.3582389744455027\n",
      "k=4:   0.2872178483173778 0.4631757091386189 0.35456682496763253\n",
      "k=5:   0.2731254074398181 0.48597582405627515 0.34970920726784416\n",
      "k=6:   0.26172642216725045 0.5302504284140641 0.3504661717816606\n",
      "k=7:   0.25186801642579765 0.5871565658070479 0.3525187764288014\n",
      "k=8:   0.24408581424425232 0.6202406544870387 0.35031194960413226\n",
      "k=9:   0.23650902999272566 0.6909329010687706 0.35239267225022497\n",
      "k=10:   0.23216663868837784 0.7026095644516698 0.3490086725380843\n"
     ]
    }
   ],
   "source": [
    "print(\"DPP PY all res:\")\n",
    "len_PUT_py=115\n",
    "for i in range(2,11):\n",
    "    print(f\"k={i}:   \",end=\"\")\n",
    "    recall=dpp_results_py[i]['TP_rate'].sum()/len_PUT_py\n",
    "    precision=dpp_results_py[i]['precision'].mean()\n",
    "    F1_score=2*precision*recall/(precision+recall)\n",
    "    print(recall,precision,F1_score)"
   ]
  },
  {
   "cell_type": "markdown",
   "metadata": {},
   "source": [
    "B.3. Compute the result of `TC`\n",
    "\n",
    "B.3.1. Compute `tc_trigger_py` or load it."
   ]
  },
  {
   "cell_type": "code",
   "execution_count": 15,
   "metadata": {},
   "outputs": [],
   "source": [
    "# df_tc_py=pd.merge(tc_res_py,ref_generator, on=['pid', 'input_name'], suffixes=('', '_ref'),how='left')\n",
    "# df_tc_py['out_correct']= (df_tc_py['out']==df_tc_py['ref_out'])\n",
    "# df_tc_py=(df_tc_py\n",
    "# [~(    \n",
    "#     (df_tc_py['out']=='TIME_OUT' )|\n",
    "#     (df_tc_py['out']=='RUN_ERROR' )|\n",
    "#     (df_tc_py['out']=='')\n",
    "# )\n",
    "# ])\n",
    "# df_tc_py['input_group']=df_tc_py['input_name'].apply(lambda x: x.split('_')[0]).astype(int)\n",
    "\n",
    "# df_tc_py=df_tc_py.merge(input_valid_generator,on=['pid','input_group'],how='left')\n",
    "# df_tc_py['input_valid']=df_tc_py['input_valid'].fillna(-1)\n",
    "# df_tc_py['input_valid']=df_tc_py['input_valid'].astype(int)\n",
    "\n",
    "# tc_py_triger=utils.get_trigger_df(df_tc_py,'python','tc')\n",
    "# tc_py_triger['len_sol_names']=tc_py_triger['sol_names'].apply(lambda x:len(x))\n",
    "# tc_py_triger['final_valid']= ( (tc_py_triger['input_valid'] != 0) & tc_py_triger['input_valid_byref'] & tc_py_triger['out_correct'] )\n",
    "# tc_py_triger['total_sols_num']=tc_py_triger['pid'].apply(lambda x:len(df_tc_py[df_tc_py['pid']==x].drop_duplicates(subset=['sol_name']))-1)\n",
    "# for i in range(10):\n",
    "#     column_name=f\"num{i}\"\n",
    "#     tc_py_triger[column_name] = tc_py_triger['sol_names'].apply(lambda x: 1 if column_name in [sol.split('_')[1] for sol in x] else 0)\n",
    "\n",
    "\n",
    "#  **WARNING**: The codes above in this block are time consuming. An alternative choice is to load the result directly\n",
    "tc_trigger_py=pd.read_pickle(\"../Data/tc_trigger_py.pkl\")"
   ]
  },
  {
   "cell_type": "markdown",
   "metadata": {},
   "source": [
    "B.3.2. Compute average number of TP and FP."
   ]
  },
  {
   "cell_type": "code",
   "execution_count": 16,
   "metadata": {},
   "outputs": [],
   "source": [
    "tc_results_py={}\n",
    "for i in range(2,11):\n",
    "    tc_results_py[i]=utils.compute_res_df(tc_trigger_py,i,'tc')"
   ]
  },
  {
   "cell_type": "markdown",
   "metadata": {},
   "source": [
    "B.3.3. Print the results."
   ]
  },
  {
   "cell_type": "code",
   "execution_count": 26,
   "metadata": {},
   "outputs": [
    {
     "name": "stdout",
     "output_type": "stream",
     "text": [
      "TC PY all res:\n",
      "k=2:   0.23748172222575228 0.7894906957980361 0.36513076072697825\n",
      "k=3:   0.2576896511440115 0.7837744558136704 0.3878589089050937\n",
      "k=4:   0.27176231436178755 0.7780582158293045 0.40282485503210097\n",
      "k=5:   0.2827308083756502 0.7780582158293045 0.4147498198138085\n",
      "k=6:   0.2869095523370028 0.7780582158293045 0.4192283392390003\n",
      "k=7:   0.28952514930042594 0.7780582158293045 0.42201373393454555\n",
      "k=8:   0.2909261154840008 0.7780582158293045 0.423500041527343\n",
      "k=9:   0.2909261154840008 0.7780582158293045 0.423500041527343\n",
      "k=10:   0.2909261154840008 0.7780582158293045 0.423500041527343\n"
     ]
    }
   ],
   "source": [
    "print(\"TC PY all res:\")\n",
    "for i in range(2,11):\n",
    "    print(f\"k={i}:   \",end=\"\")\n",
    "    recall=tc_results_py[i]['TP_rate'].sum()/len_PUT_py\n",
    "    precision=tc_results_py[i]['precision'].mean()\n",
    "    F1_score=2*precision*recall/(precision+recall)\n",
    "    print(recall,precision,F1_score)"
   ]
  },
  {
   "cell_type": "markdown",
   "metadata": {},
   "source": [
    "B.4. Compute the result of `CHAT`"
   ]
  },
  {
   "cell_type": "code",
   "execution_count": 27,
   "metadata": {},
   "outputs": [
    {
     "name": "stdout",
     "output_type": "stream",
     "text": [
      "CHAT PY ALL RES:\n",
      "0.037785726111387086 0.08814228804691505 0.05289562258617015\n"
     ]
    }
   ],
   "source": [
    "df_chat_py=chat_res_py.copy()\n",
    "df_chat_py['input_name']=df_chat_py['input_name'].apply(lambda x:'.'.join( (\"_\".join(x.split('_')[1:]).split('.')[:-1] )))\n",
    "df_chat_py=df_chat_py.merge(ref_chat,on=['pid','input_name'],how='left')\n",
    "df_chat_py['triger']= (df_chat_py['out']!=df_chat_py['chat_out'])\n",
    "chat_py_input_vaild=pd.read_pickle(\"../Data/input_valid_chatpy.pkl\")\n",
    "df_chat_py=df_chat_py.merge(chat_py_input_vaild,on=['pid','input_name'],how='left')\n",
    "df_chat_py['input_valid']=df_chat_py['input_valid'].fillna(-1)\n",
    "df_chat_py['input_valid']=df_chat_py['input_valid'].astype(int)\n",
    "df_chat_py['final_valid']= ( (df_chat_py['input_valid'] == 1) & df_chat_py['input_valid_byref'] & df_chat_py['out_correct'] )\n",
    "\n",
    "chat_results_py=pd.DataFrame(columns=['pid','total','TP','FP'])\n",
    "for pid in df_chat_py['pid'].unique():\n",
    "    df_tmp=df_chat_py[df_chat_py['pid']==pid]\n",
    "    df_tmp=df_tmp.drop_duplicates(subset=['input_name'])\n",
    "    total=len(df_tmp)\n",
    "    df_tmp=df_tmp[df_tmp['triger']==True]\n",
    "    TP=len(df_tmp[df_tmp['final_valid']==True])\n",
    "    FP=len(df_tmp[df_tmp['final_valid']==False])\n",
    "    chat_results_py.loc[len(chat_results_py)]=[pid,total,TP,FP]\n",
    "chat_results_py['TP_rate']=chat_results_py['TP']/chat_results_py['total']\n",
    "chat_results_py['FP_rate']=chat_results_py['FP']/chat_results_py['total']\n",
    "chat_results_py['precision']=chat_results_py['TP']/(chat_results_py['TP']+chat_results_py['FP'])\n",
    "recall=chat_results_py['TP_rate'].sum()/len_PUT_py\n",
    "precision=chat_results_py['precision'].mean()\n",
    "F1_score=2*precision*recall/(precision+recall)\n",
    "print(\"CHAT PY ALL RES:\")\n",
    "print(recall,precision,F1_score)\n"
   ]
  },
  {
   "cell_type": "markdown",
   "metadata": {},
   "source": [
    "B.5. Compute the result of `APR`"
   ]
  },
  {
   "cell_type": "code",
   "execution_count": 29,
   "metadata": {},
   "outputs": [
    {
     "name": "stdout",
     "output_type": "stream",
     "text": [
      "0.10199203187250996 0.3663995726495726 0.15956663838959742\n"
     ]
    }
   ],
   "source": [
    "pid_set_py=set(list(chat_res_py['pid']))\n",
    "\n",
    "APR_check_py=pd.read_pickle(\"../Data/tc_submit_base_and_extra_py.pkl\")\n",
    "repair_check_py_group_by_pid=APR_check_py.groupby('pid')\n",
    "res_df=pd.DataFrame(columns=['pid','total','TP','FP'])\n",
    "for pid,group in repair_check_py_group_by_pid:\n",
    "    if pid not in pid_set_py:\n",
    "        continue\n",
    "    repair_pid=APR_check_py[APR_check_py['pid']==pid]\n",
    "    total=len(repair_pid)\n",
    "    repair_pid=repair_pid[repair_pid['base']=='AC']\n",
    "    if len(repair_pid)<1:\n",
    "        continue\n",
    "    res_df.loc[len(res_df)]=[pid,total,len(repair_pid[repair_pid['extra']=='AC']),len(repair_pid[repair_pid['extra']!='AC'])]\n",
    "res_df['TP_rate']=res_df['TP']/res_df['total']\n",
    "res_df['FP_rate']=res_df['FP']/res_df['total']\n",
    "res_df['precision']=res_df['TP']/(res_df['TP']+res_df['FP'])\n",
    "recall=res_df['TP_rate'].sum()/len_PUT\n",
    "precision=res_df['precision'].mean()\n",
    "F1_score=2*precision*recall/(precision+recall)\n",
    "print(recall,precision,F1_score)"
   ]
  },
  {
   "cell_type": "markdown",
   "metadata": {},
   "source": [
    "# RQ1-C. EvalPlus\n",
    "\n",
    "C.1. First please make sure you have installed `EvalPlus`. \n",
    "\n",
    "Use this link for installation: [EvalPlus Github](https://github.com/evalplus/evalplus/tree/master)\n",
    "\n",
    "C.2. Import necessary packages and load data from EvalPlus"
   ]
  },
  {
   "cell_type": "code",
   "execution_count": 30,
   "metadata": {},
   "outputs": [
    {
     "name": "stdout",
     "output_type": "stream",
     "text": [
      "Load from ground-truth from /home/kaiboliu/.cache/evalplus/84f4b93a1270b492e4c54d5212da7a5b.pkl\n"
     ]
    }
   ],
   "source": [
    "from evalplus.data import get_human_eval_plus, get_human_eval_plus_hash\n",
    "from evalplus.evaluate import get_groundtruth\n",
    "problems = get_human_eval_plus(mini=False)\n",
    "dataset_hash = get_human_eval_plus_hash()\n",
    "expected_output = get_groundtruth(problems, dataset_hash, []) "
   ]
  },
  {
   "cell_type": "markdown",
   "metadata": {},
   "source": [
    "C.3. Load middle data:\n",
    "- `ep_dpp_res`: The outpus of `DPP`'s program variansts on all direct-generated test inputs.\n",
    "- `ep_tc_res`: The outpus of `TC`'s program variansts on all generator-generated test inputs.\n",
    "- `ep_chat_res`: The outpus of PUTs on all test inputs extracted from LLM-generated test cases.\n",
    "- `ep_ref_dpp`: The reference oracles and validities of direct-generated test inputs.\n",
    "- `ep_ref_tc`: The reference oracles and validities of generator-generated test inputs.\n",
    "- `ep_ref_chat`: The reference oracles and validities of test inputs extracted from LLM-generated test cases."
   ]
  },
  {
   "cell_type": "code",
   "execution_count": 31,
   "metadata": {},
   "outputs": [],
   "source": [
    "ep_dpp_res=pd.read_pickle(\"../Data/ep_dpp_res.pkl\")\n",
    "ep_tc_res=pd.read_pickle(\"../Data/ep_tc_res.pkl\")\n",
    "ep_chat_res=pd.read_pickle(\"../Data/ep_chat_res.pkl\")\n",
    "ep_ref_dpp=pd.read_pickle(\"../Data/ep_ref_dpp.pkl\")\n",
    "ep_ref_tc=pd.read_pickle(\"../Data/ep_ref_tc.pkl\")\n",
    "ep_ref_chat=pd.read_pickle(\"../Data/ep_ref_chat.pkl\")\n",
    "ep_submit_tc=pd.read_pickle(\"../Data/ep_submit_tc.pkl\")\n"
   ]
  },
  {
   "cell_type": "markdown",
   "metadata": {},
   "source": [
    "C.4. Compute the results of `DPP`.\n",
    "\n",
    "C.4.1 First compute the trigger dataframe `ep_trigger_dpp` or load it."
   ]
  },
  {
   "cell_type": "code",
   "execution_count": 32,
   "metadata": {},
   "outputs": [],
   "source": [
    "# ep_dpp_res=ep_dpp_res.merge(ep_ref_dpp,on=['task_id','input_name'],how='left')\n",
    "# ep_dpp_res['out_correct']= (ep_dpp_res['out']==ep_dpp_res['ref_out'])\n",
    "# ep_trigger_dpp=utils.ep_get_trigger_df(ep_dpp_res,'dfp')\n",
    "\n",
    "\n",
    "#  **WARNING**: The codes above in this block are time consuming. An alternative choice is to load the result directly\n",
    "ep_trigger_dpp=pd.read_pickle(\"../Data/ep_trigger_dpp.pkl\")"
   ]
  },
  {
   "cell_type": "markdown",
   "metadata": {},
   "source": [
    "C.4.2. Compute the average number of TP and FP."
   ]
  },
  {
   "cell_type": "code",
   "execution_count": 33,
   "metadata": {},
   "outputs": [],
   "source": [
    "ep_dpp_results={}\n",
    "for i in range(2,11):\n",
    "    ep_dpp_results[i]=utils.ep_compute_res(ep_trigger_dpp,i,'dfp')"
   ]
  },
  {
   "cell_type": "markdown",
   "metadata": {},
   "source": [
    "C.4.3. Print the results."
   ]
  },
  {
   "cell_type": "code",
   "execution_count": 34,
   "metadata": {},
   "outputs": [
    {
     "name": "stdout",
     "output_type": "stream",
     "text": [
      "k=2:   0.23357572661637596 0.5354240224817325 0.32525902705614057\n",
      "k=3:   0.2315018821877816 0.5978750565184714 0.3337666974754742\n",
      "k=4:   0.23018524096124268 0.6116437548048926 0.3344892271240228\n",
      "k=5:   0.22911010283381691 0.6722482802237293 0.34174835560847505\n",
      "k=6:   0.2279943418095592 0.7271054614282039 0.34713844677275224\n",
      "k=7:   0.226785550600768 0.7561975701727254 0.34892701347636174\n",
      "k=8:   0.2255170320822495 0.8050567736074982 0.35233578272477634\n",
      "k=9:   0.22425777282299023 0.8450852540336867 0.35445489829812354\n",
      "k=10:   0.22288740245261987 0.9035975775106211 0.3575733729186415\n"
     ]
    }
   ],
   "source": [
    "for i in range(2,11):\n",
    "    ep_PUT_len=150\n",
    "    print(f\"k={i}:   \",end=\"\")\n",
    "    recall=ep_dpp_results[i]['TP_rate'].sum()/ep_PUT_len\n",
    "    precision=ep_dpp_results[i]['precision'].mean()\n",
    "    F1_score=2*precision*recall/(precision+recall)\n",
    "    print(recall,precision,F1_score)"
   ]
  },
  {
   "cell_type": "markdown",
   "metadata": {},
   "source": [
    "C.5. Compute the results of `TC`.\n",
    "\n",
    "C.5.1 First compute the trigger dataframe `ep_trigger_tc` or load it."
   ]
  },
  {
   "cell_type": "code",
   "execution_count": 35,
   "metadata": {},
   "outputs": [],
   "source": [
    "# ep_df_tc=ep_tc_res.merge(ep_submit_tc,on=['task_id','sol_name'],how='left')\n",
    "# ep_df_tc.loc[ep_df_tc['sol_name']=='put','submit_res']=True\n",
    "# ep_df_tc=ep_df_tc[~(ep_df_tc['submit_res']==False)]\n",
    "# ep_df_tc=ep_df_tc.merge(ep_ref_tc,on=['task_id','input_name'],how='left')\n",
    "# ep_df_tc['out_correct']= (ep_df_tc['out']==ep_df_tc['ref_out'])\n",
    "# ep_trigger_tc=utils.ep_get_trigger_df(ep_df_tc,'tc')\n",
    "\n",
    "\n",
    "#  **WARNING**: The codes above in this block are time consuming. An alternative choice is to load the result directly\n",
    "ep_trigger_tc=pd.read_pickle(\"../Data/ep_trigger_tc.pkl\")"
   ]
  },
  {
   "cell_type": "markdown",
   "metadata": {},
   "source": [
    "C.5.2 Compute the average number of TP and FP."
   ]
  },
  {
   "cell_type": "code",
   "execution_count": 36,
   "metadata": {},
   "outputs": [],
   "source": [
    "ep_tc_results={}\n",
    "for i in range(2,11):\n",
    "    ep_tc_results[i]=utils.ep_compute_res(ep_trigger_tc,i,'tc')"
   ]
  },
  {
   "cell_type": "markdown",
   "metadata": {},
   "source": [
    "C.5.3 Print the results."
   ]
  },
  {
   "cell_type": "code",
   "execution_count": 37,
   "metadata": {},
   "outputs": [
    {
     "name": "stdout",
     "output_type": "stream",
     "text": [
      "k=2:   0.3277928364931508 0.8509417886564834 0.47327467377800136\n",
      "k=3:   0.34357114240064995 0.8475121333849764 0.4889342630949604\n",
      "k=4:   0.35348735716351326 0.8440079157322858 0.49828359962678825\n",
      "k=5:   0.3596522677324053 0.8412199062393472 0.5038781870346497\n",
      "k=6:   0.3632114053238568 0.8384997938656541 0.50686502497291\n",
      "k=7:   0.366203444299354 0.8360878196194921 0.5093245679643594\n",
      "k=8:   0.36901047504124784 0.8337713786163924 0.5115979619469821\n",
      "k=9:   0.37019935518147745 0.8317896011525613 0.5123640651948915\n",
      "k=10:   0.3713521932644048 0.8313855073083689 0.5133901289369651\n"
     ]
    }
   ],
   "source": [
    "for i in range(2,11):\n",
    "    print(f\"k={i}:   \",end=\"\")\n",
    "    recall=ep_tc_results[i]['TP_rate'].sum()/ep_PUT_len\n",
    "    precision=ep_tc_results[i]['precision'].mean()\n",
    "    F1_score=2*precision*recall/(precision+recall)\n",
    "    print(recall,precision,F1_score)"
   ]
  },
  {
   "cell_type": "markdown",
   "metadata": {},
   "source": [
    "C.6. Compute the results of `CHAT`. "
   ]
  },
  {
   "cell_type": "code",
   "execution_count": 38,
   "metadata": {},
   "outputs": [
    {
     "name": "stdout",
     "output_type": "stream",
     "text": [
      "0.012127226883363196 0.08282266656896822 0.021156617075537232\n"
     ]
    }
   ],
   "source": [
    "ep_df_chat=ep_chat_res.merge(ep_ref_chat,on=['task_id','input_name'],how='left')\n",
    "\n",
    "\n",
    "#Extract the outputs of LLM-generated test cases\n",
    "chat_outs = pd.DataFrame(columns=['task_id', 'input_name', 'chat_out'])\n",
    "with open(\"../Datasets/EvalPlus/GenInputs/gen_testcases_outputs.json\",\"r\") as f:\n",
    "    chat_out_json=json.load(f)\n",
    "for task_key in chat_out_json:\n",
    "    this_task_json=chat_out_json[task_key]\n",
    "    task_id=task_key.replace('/','_')\n",
    "    inp_len=len(this_task_json)\n",
    "    new_rows=[]\n",
    "    for i in range(inp_len):\n",
    "        #print(f\"{task_id} input_{i}\")\n",
    "        output=this_task_json[i]\n",
    "        new_row=[task_id,f\"input_{i}\",output]\n",
    "        new_rows.append(new_row)\n",
    "    df_new_rows=pd.DataFrame(new_rows, columns=['task_id', 'input_name', 'chat_out'])\n",
    "    chat_outs=pd.concat([chat_outs,df_new_rows],ignore_index=True)\n",
    "\n",
    "# If PUT‘s output is different with LLM-generated test out, the test case is a TP or FP\n",
    "ep_df_chat=ep_df_chat.merge(chat_outs,on=['task_id','input_name'],how='left')\n",
    "ep_df_chat['triger']= (ep_df_chat['out']!=ep_df_chat['chat_out'])\n",
    "ep_df_chat['out_correct']= (ep_df_chat['chat_out']==ep_df_chat['ref_out'])\n",
    "ep_df_chat['final_valid']=ep_df_chat['input_valid'] & ep_df_chat['out_correct'] \n",
    "def check_triger_valid(row):\n",
    "    if isinstance(row['chat_out'],list) and len(row['chat_out']) == 1 and row['out'] == row['chat_out'][0]:\n",
    "        return False\n",
    "    return True\n",
    "ep_df_chat['triger_valid']=ep_df_chat.apply(check_triger_valid, axis=1)\n",
    "ep_df_chat['triger']=ep_df_chat['triger']&ep_df_chat['triger_valid']\n",
    "\n",
    "#Compute the average number of TP and FP, and compute the recall,precision,F1 score\n",
    "ep_chat_results=pd.DataFrame(columns=['task_id','total','TP','FP'])\n",
    "for task_id in ep_df_chat['task_id'].unique():\n",
    "    df_pid=ep_df_chat[ep_df_chat['task_id']==task_id]\n",
    "    df_pid=df_pid.drop_duplicates(subset=['input_name'])\n",
    "    total=len(df_pid)\n",
    "    df_pid=df_pid[df_pid['triger']==True]\n",
    "    TP=len(df_pid[df_pid['final_valid']==True])\n",
    "    FP=len(df_pid[df_pid['final_valid']==False])\n",
    "    ep_chat_results.loc[len(ep_chat_results)]=[task_id,total,TP,FP]\n",
    "ep_chat_results['TP_rate']=ep_chat_results['TP']/ep_chat_results['total']\n",
    "ep_chat_results['FP_rate']=ep_chat_results['FP']/ep_chat_results['total']\n",
    "ep_chat_results['precision']=ep_chat_results['TP']/(ep_chat_results['TP']+ep_chat_results['FP'])\n",
    "recall=ep_chat_results['TP_rate'].sum()/151\n",
    "precision=ep_chat_results['precision'].mean()\n",
    "F1_score=2*precision*recall/(precision+recall)\n",
    "print(recall,precision,F1_score)"
   ]
  },
  {
   "cell_type": "markdown",
   "metadata": {},
   "source": [
    "C.7. Compute the result of `APR`.\n",
    "\n",
    "`ep_tc_suball`: This middle datas records the testing results of program variants on base test cases and extra test cases. We use it to compute average TP and FP of `APR`."
   ]
  },
  {
   "cell_type": "code",
   "execution_count": 39,
   "metadata": {},
   "outputs": [
    {
     "name": "stdout",
     "output_type": "stream",
     "text": [
      "0.4139072847682119 0.4997153804050356 0.4527817536600644\n"
     ]
    }
   ],
   "source": [
    "ep_tc_suball=pd.read_pickle(\"../Data/ep_tc_suball.pkl\")\n",
    "\n",
    "suball_by_G=ep_tc_suball.groupby('pid')\n",
    "res_df=pd.DataFrame(columns=['pid','total','TP','FP'])\n",
    "for pid,group in suball_by_G:\n",
    "    repair_pid=ep_tc_suball[ep_tc_suball['pid']==pid]\n",
    "    total=len(repair_pid)\n",
    "    repair_pid=repair_pid[repair_pid['submit_res']==True]\n",
    "    if len(repair_pid)<1:\n",
    "        continue\n",
    "    res_df.loc[len(res_df)]=[pid,total,len(repair_pid[repair_pid['extra_submit_res']==True]),len(repair_pid[repair_pid['extra_submit_res']!=True])]\n",
    "res_df['TP_rate']=res_df['TP']/res_df['total']\n",
    "res_df['FP_rate']=res_df['FP']/res_df['total']\n",
    "res_df['precision']=res_df['TP']/(res_df['TP']+res_df['FP'])\n",
    "recall=res_df['TP_rate'].sum()/151\n",
    "precision=res_df['precision'].mean()\n",
    "F1_score=2*precision*recall/(precision+recall)\n",
    "print(recall,precision,F1_score)"
   ]
  },
  {
   "cell_type": "markdown",
   "metadata": {},
   "source": [
    "# RQ5"
   ]
  },
  {
   "cell_type": "markdown",
   "metadata": {},
   "source": [
    "New we reproduce Figures in RQ5.\n",
    "\n",
    "1. First load the difficulty json file and define tool functions."
   ]
  },
  {
   "cell_type": "code",
   "execution_count": 17,
   "metadata": {},
   "outputs": [],
   "source": [
    "with open(\"../Datasets/TrickyBugs/atcoder_difficultiy.json\",'r') as f:\n",
    "    pid2diff_json=json.load(f)\n",
    "avg=np.mean(list(pid2diff_json.values()))\n",
    "def pid2diff(pid):\n",
    "    if pid in pid2diff_json:\n",
    "        return pid2diff_json[pid]\n",
    "    else:\n",
    "        return avg\n",
    "def filter_by_precision(res_df,threhold):\n",
    "    return res_df[res_df['precision']>threhold]['pid']"
   ]
  },
  {
   "cell_type": "markdown",
   "metadata": {},
   "source": [
    "2. Then we plot the Figure 7 use the following code."
   ]
  },
  {
   "cell_type": "code",
   "execution_count": 21,
   "metadata": {},
   "outputs": [
    {
     "data": {
      "image/png": "[encoded data removed]",
      "text/plain": [
       "<Figure size 1200x600 with 2 Axes>"
      ]
     },
     "metadata": {},
     "output_type": "display_data"
    }
   ],
   "source": [
    "dfp_cpp_res=dpp_results[10] # the k with best F1 score is 10\n",
    "tc_cpp_res=tc_results[10] # the k with best F1 score is 10\n",
    "dfp_py_res=dpp_results_py[2] # the k with best F1 score is 2\n",
    "tc_py_res=tc_results_py[10]# the k with best F1 score is 10\n",
    " \n",
    "threhold=0.5\n",
    "dfp_cpp_pid=filter_by_precision(dfp_cpp_res,threhold)\n",
    "tc_cpp_pid=filter_by_precision(tc_cpp_res,threhold)\n",
    "dfp_py_pid=filter_by_precision(dfp_py_res,threhold)\n",
    "tc_py_pid=filter_by_precision(tc_py_res,threhold)\n",
    "dfp_cpp_diff=list(dfp_cpp_pid.apply(pid2diff))\n",
    "tc_cpp_diff=list(tc_cpp_pid.apply(pid2diff))\n",
    "dfp_py_diff=list(dfp_py_pid.apply(pid2diff))\n",
    "tc_py_diff=list(tc_py_pid.apply(pid2diff))\n",
    "cpp_pid=list(set(df_chat['pid']))\n",
    "python_pid=list(set(df_chat_py['pid']))\n",
    "cpp_diff=list(map(pid2diff,cpp_pid))\n",
    "python_diff=list(map(pid2diff,python_pid))\n",
    "\n",
    "data_cpp = {\n",
    "    'Difficulty': cpp_diff + tc_cpp_diff + dfp_cpp_diff,\n",
    "    'Group': ['ALL'] * len(cpp_diff) + ['TC'] * len(tc_cpp_diff) + ['DPP'] * len(dfp_cpp_diff)\n",
    "}\n",
    "\n",
    "data_python = {\n",
    "    'Difficulty': python_diff + tc_py_diff + dfp_py_diff,\n",
    "    'Group': ['ALL'] * len(python_diff) + ['TC'] * len(tc_py_diff) + ['DPP'] * len(dfp_py_diff)\n",
    "}\n",
    "\n",
    "df_cpp = pd.DataFrame(data_cpp)\n",
    "df_python = pd.DataFrame(data_python)\n",
    "\n",
    "\n",
    "plt.figure(figsize=(12, 6))\n",
    "y_ticks=[0,500,1000,1500,2000,2500,3000,3500,4000]\n",
    "plt.subplot(1, 2, 1)  \n",
    "sns.boxplot(x='Group', y='Difficulty', data=df_cpp)\n",
    "plt.title('TrickyBugs (C++)',fontsize=28)\n",
    "plt.tick_params(axis='both', which='major', labelsize=20)\n",
    "plt.yticks(y_ticks)\n",
    "plt.ylim(0,4300)\n",
    "plt.xlabel(\"\")\n",
    "plt.ylabel('Difficlty', fontsize=25)\n",
    "\n",
    "plt.subplot(1, 2, 2) \n",
    "sns.boxplot(x='Group', y='Difficulty', data=df_python)\n",
    "plt.title('TrickyBugs (Python)',fontsize=28)\n",
    "plt.tick_params(axis='both', which='major', labelsize=20)\n",
    "plt.yticks(y_ticks)\n",
    "plt.ylim(0,4300)\n",
    "plt.xlabel(\"\")\n",
    "plt.ylabel('', fontsize=18)\n",
    "plt.tight_layout()\n",
    "plt.show()\n"
   ]
  },
  {
   "cell_type": "markdown",
   "metadata": {},
   "source": [
    "3. Load the problem-level passing results of the program variants generated by `TC` and `DPP`."
   ]
  },
  {
   "cell_type": "code",
   "execution_count": 22,
   "metadata": {},
   "outputs": [],
   "source": [
    "tc_suball=pd.read_pickle(\"../Data/tc_suball.pkl\")\n",
    "dfp_suball=pd.read_pickle(\"../Data/dfp_suball.pkl\")\n",
    "\n",
    "def get_avg(df):\n",
    "    df_avg = df.groupby(['pid', 'diff']).agg(\n",
    "    avg_submit=pd.NamedAgg(column='submit_bool', aggfunc='mean'),\n",
    "    avg_extra=pd.NamedAgg(column='extra_bool', aggfunc='mean')\n",
    "    ).reset_index()\n",
    "    return df_avg\n",
    "tc_avg=get_avg(tc_suball)\n",
    "dfp_avg=get_avg(dfp_suball)"
   ]
  },
  {
   "cell_type": "markdown",
   "metadata": {},
   "source": [
    "4. Then we plot the Figure 8 with the following code."
   ]
  },
  {
   "cell_type": "code",
   "execution_count": 23,
   "metadata": {},
   "outputs": [
    {
     "name": "stderr",
     "output_type": "stream",
     "text": [
      "/storage1/user/liukaibo/miniconda3/lib/python3.10/site-packages/seaborn/categorical.py:641: FutureWarning: The default of observed=False is deprecated and will be changed to True in a future version of pandas. Pass observed=False to retain current behavior or observed=True to adopt the future default and silence this warning.\n",
      "  grouped_vals = vals.groupby(grouper)\n",
      "/storage1/user/liukaibo/miniconda3/lib/python3.10/site-packages/seaborn/categorical.py:641: FutureWarning: The default of observed=False is deprecated and will be changed to True in a future version of pandas. Pass observed=False to retain current behavior or observed=True to adopt the future default and silence this warning.\n",
      "  grouped_vals = vals.groupby(grouper)\n",
      "/storage1/user/liukaibo/miniconda3/lib/python3.10/site-packages/seaborn/categorical.py:641: FutureWarning: The default of observed=False is deprecated and will be changed to True in a future version of pandas. Pass observed=False to retain current behavior or observed=True to adopt the future default and silence this warning.\n",
      "  grouped_vals = vals.groupby(grouper)\n",
      "/storage1/user/liukaibo/miniconda3/lib/python3.10/site-packages/seaborn/categorical.py:641: FutureWarning: The default of observed=False is deprecated and will be changed to True in a future version of pandas. Pass observed=False to retain current behavior or observed=True to adopt the future default and silence this warning.\n",
      "  grouped_vals = vals.groupby(grouper)\n"
     ]
    },
    {
     "data": {
      "image/png": "[encoded data removed]",
      "text/plain": [
       "<Figure size 1200x700 with 2 Axes>"
      ]
     },
     "metadata": {},
     "output_type": "display_data"
    }
   ],
   "source": [
    "n_groups = 2  \n",
    "tc_avg['Group'] = pd.qcut(tc_avg['diff'], q=n_groups,labels=['low','high'])\n",
    "dfp_avg['Group'] = pd.qcut(dfp_avg['diff'], q=n_groups,labels=['low','high'])\n",
    "\n",
    "\n",
    "tc_avg['Method'] = 'TC'\n",
    "dfp_avg['Method'] = 'DPP'\n",
    "combined = pd.concat([tc_avg, dfp_avg])\n",
    "\n",
    "\n",
    "plt.figure(figsize=(12, 7))\n",
    "\n",
    "# base tests\n",
    "plt.subplot(1, 2, 1)\n",
    "sns.boxplot(data=combined, x='Group', y='avg_submit', hue='Method')\n",
    "plt.title('Passing rate on base tests',fontsize=26)\n",
    "plt.xlabel('Difficulty',fontsize=26)\n",
    "plt.ylabel('Value',fontsize=24)\n",
    "plt.legend(fontsize=16,loc='upper right')\n",
    "plt.tick_params(axis='x', labelsize=26) \n",
    "plt.tick_params(axis='y', labelsize=20)  \n",
    "\n",
    "# extra tests\n",
    "plt.subplot(1, 2, 2)\n",
    "sns.boxplot(data=combined, x='Group', y='avg_extra', hue='Method')\n",
    "plt.title('Passing rate on extra tests',fontsize=26)\n",
    "plt.xlabel('Difficulty',fontsize=26)\n",
    "plt.ylabel('',fontsize=22)\n",
    "plt.legend(fontsize=16,loc='upper right')\n",
    "plt.tick_params(axis='x', labelsize=26) \n",
    "plt.tick_params(axis='y', labelsize=20) \n",
    "\n",
    "\n",
    "plt.tight_layout()\n",
    "plt.show()"
   ]
  }
 ],
 "metadata": {
  "kernelspec": {
   "display_name": "base",
   "language": "python",
   "name": "python3"
  },
  "language_info": {
   "codemirror_mode": {
    "name": "ipython",
    "version": 3
   },
   "file_extension": ".py",
   "mimetype": "text/x-python",
   "name": "python",
   "nbconvert_exporter": "python",
   "pygments_lexer": "ipython3",
   "version": "3.10.9"
  },
  "orig_nbformat": 4
 },
 "nbformat": 4,
 "nbformat_minor": 2
}
